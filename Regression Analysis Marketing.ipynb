{
 "cells": [
  {
   "cell_type": "code",
   "execution_count": 14,
   "metadata": {},
   "outputs": [
    {
     "name": "stderr",
     "output_type": "stream",
     "text": [
      "C:\\Users\\Siddhesh\\Anaconda3\\lib\\site-packages\\statsmodels\\tools\\_testing.py:19: FutureWarning: pandas.util.testing is deprecated. Use the functions in the public API at pandas.testing instead.\n",
      "  import pandas.util.testing as tm\n"
     ]
    }
   ],
   "source": [
    "import pandas as pd\n",
    "from scipy import stats\n",
    "import statsmodels.formula.api as smf\n",
    "\n",
    "%matplotlib inline"
   ]
  },
  {
   "cell_type": "code",
   "execution_count": 2,
   "metadata": {},
   "outputs": [],
   "source": [
    "myRegressionData = pd.read_csv(r\"C:\\Siddhesh Data\\Study\\My Interest\\(Started On 09192021) The Data Science of Marketing\\Data & Exploratory Analysis\\Dataset\\Ex_Files_Data_Science_of_Marketing\\Ex_Files_Data_Science_of_Marketing\\Exercise_Files\\03_03\\regression-py.csv\")"
   ]
  },
  {
   "cell_type": "code",
   "execution_count": 3,
   "metadata": {},
   "outputs": [
    {
     "data": {
      "text/html": [
       "<div>\n",
       "<style scoped>\n",
       "    .dataframe tbody tr th:only-of-type {\n",
       "        vertical-align: middle;\n",
       "    }\n",
       "\n",
       "    .dataframe tbody tr th {\n",
       "        vertical-align: top;\n",
       "    }\n",
       "\n",
       "    .dataframe thead th {\n",
       "        text-align: right;\n",
       "    }\n",
       "</style>\n",
       "<table border=\"1\" class=\"dataframe\">\n",
       "  <thead>\n",
       "    <tr style=\"text-align: right;\">\n",
       "      <th></th>\n",
       "      <th>date</th>\n",
       "      <th>geo</th>\n",
       "      <th>billboard</th>\n",
       "      <th>print</th>\n",
       "      <th>broadcast</th>\n",
       "      <th>sales</th>\n",
       "      <th>visits</th>\n",
       "      <th>volume</th>\n",
       "      <th>increase</th>\n",
       "    </tr>\n",
       "  </thead>\n",
       "  <tbody>\n",
       "    <tr>\n",
       "      <th>0</th>\n",
       "      <td>2/13/17</td>\n",
       "      <td>Kentucky</td>\n",
       "      <td>6</td>\n",
       "      <td>5</td>\n",
       "      <td>1</td>\n",
       "      <td>137452</td>\n",
       "      <td>3974</td>\n",
       "      <td>4</td>\n",
       "      <td>-3</td>\n",
       "    </tr>\n",
       "    <tr>\n",
       "      <th>1</th>\n",
       "      <td>2/12/17</td>\n",
       "      <td>NI</td>\n",
       "      <td>8</td>\n",
       "      <td>6</td>\n",
       "      <td>1</td>\n",
       "      <td>147376</td>\n",
       "      <td>3732</td>\n",
       "      <td>8</td>\n",
       "      <td>7</td>\n",
       "    </tr>\n",
       "    <tr>\n",
       "      <th>2</th>\n",
       "      <td>3/7/17</td>\n",
       "      <td>Virginia</td>\n",
       "      <td>1</td>\n",
       "      <td>1</td>\n",
       "      <td>2</td>\n",
       "      <td>148252</td>\n",
       "      <td>3127</td>\n",
       "      <td>5</td>\n",
       "      <td>2</td>\n",
       "    </tr>\n",
       "    <tr>\n",
       "      <th>3</th>\n",
       "      <td>3/14/17</td>\n",
       "      <td>SIC</td>\n",
       "      <td>9</td>\n",
       "      <td>5</td>\n",
       "      <td>3</td>\n",
       "      <td>151842</td>\n",
       "      <td>3091</td>\n",
       "      <td>3</td>\n",
       "      <td>7</td>\n",
       "    </tr>\n",
       "    <tr>\n",
       "      <th>4</th>\n",
       "      <td>2/5/17</td>\n",
       "      <td>DE</td>\n",
       "      <td>6</td>\n",
       "      <td>3</td>\n",
       "      <td>3</td>\n",
       "      <td>155207</td>\n",
       "      <td>4791</td>\n",
       "      <td>5</td>\n",
       "      <td>8</td>\n",
       "    </tr>\n",
       "    <tr>\n",
       "      <th>5</th>\n",
       "      <td>1/3/17</td>\n",
       "      <td>IN</td>\n",
       "      <td>5</td>\n",
       "      <td>4</td>\n",
       "      <td>3</td>\n",
       "      <td>163855</td>\n",
       "      <td>5066</td>\n",
       "      <td>6</td>\n",
       "      <td>5</td>\n",
       "    </tr>\n",
       "    <tr>\n",
       "      <th>6</th>\n",
       "      <td>3/5/17</td>\n",
       "      <td>SJ</td>\n",
       "      <td>3</td>\n",
       "      <td>9</td>\n",
       "      <td>4</td>\n",
       "      <td>175243</td>\n",
       "      <td>3096</td>\n",
       "      <td>4</td>\n",
       "      <td>6</td>\n",
       "    </tr>\n",
       "    <tr>\n",
       "      <th>7</th>\n",
       "      <td>3/1/17</td>\n",
       "      <td>OV</td>\n",
       "      <td>8</td>\n",
       "      <td>1</td>\n",
       "      <td>4</td>\n",
       "      <td>193623</td>\n",
       "      <td>3371</td>\n",
       "      <td>5</td>\n",
       "      <td>1</td>\n",
       "    </tr>\n",
       "    <tr>\n",
       "      <th>8</th>\n",
       "      <td>12/25/16</td>\n",
       "      <td>Texas</td>\n",
       "      <td>1</td>\n",
       "      <td>4</td>\n",
       "      <td>4</td>\n",
       "      <td>198238</td>\n",
       "      <td>4992</td>\n",
       "      <td>6</td>\n",
       "      <td>0</td>\n",
       "    </tr>\n",
       "    <tr>\n",
       "      <th>9</th>\n",
       "      <td>12/23/16</td>\n",
       "      <td>WA</td>\n",
       "      <td>3</td>\n",
       "      <td>6</td>\n",
       "      <td>4</td>\n",
       "      <td>198267</td>\n",
       "      <td>4725</td>\n",
       "      <td>7</td>\n",
       "      <td>-1</td>\n",
       "    </tr>\n",
       "    <tr>\n",
       "      <th>10</th>\n",
       "      <td>2/14/17</td>\n",
       "      <td>JK</td>\n",
       "      <td>8</td>\n",
       "      <td>4</td>\n",
       "      <td>5</td>\n",
       "      <td>201070</td>\n",
       "      <td>5026</td>\n",
       "      <td>8</td>\n",
       "      <td>5</td>\n",
       "    </tr>\n",
       "    <tr>\n",
       "      <th>11</th>\n",
       "      <td>1/24/17</td>\n",
       "      <td>PB</td>\n",
       "      <td>5</td>\n",
       "      <td>9</td>\n",
       "      <td>6</td>\n",
       "      <td>202392</td>\n",
       "      <td>2988</td>\n",
       "      <td>6</td>\n",
       "      <td>0</td>\n",
       "    </tr>\n",
       "    <tr>\n",
       "      <th>12</th>\n",
       "      <td>1/23/17</td>\n",
       "      <td>SO</td>\n",
       "      <td>7</td>\n",
       "      <td>8</td>\n",
       "      <td>6</td>\n",
       "      <td>212052</td>\n",
       "      <td>3814</td>\n",
       "      <td>8</td>\n",
       "      <td>6</td>\n",
       "    </tr>\n",
       "    <tr>\n",
       "      <th>13</th>\n",
       "      <td>1/1/17</td>\n",
       "      <td>E</td>\n",
       "      <td>8</td>\n",
       "      <td>8</td>\n",
       "      <td>6</td>\n",
       "      <td>217510</td>\n",
       "      <td>3264</td>\n",
       "      <td>8</td>\n",
       "      <td>5</td>\n",
       "    </tr>\n",
       "    <tr>\n",
       "      <th>14</th>\n",
       "      <td>3/17/17</td>\n",
       "      <td>Małopolskie</td>\n",
       "      <td>6</td>\n",
       "      <td>3</td>\n",
       "      <td>7</td>\n",
       "      <td>221501</td>\n",
       "      <td>3144</td>\n",
       "      <td>8</td>\n",
       "      <td>8</td>\n",
       "    </tr>\n",
       "    <tr>\n",
       "      <th>15</th>\n",
       "      <td>3/8/17</td>\n",
       "      <td>Stockholms län</td>\n",
       "      <td>8</td>\n",
       "      <td>8</td>\n",
       "      <td>7</td>\n",
       "      <td>223374</td>\n",
       "      <td>4502</td>\n",
       "      <td>8</td>\n",
       "      <td>-1</td>\n",
       "    </tr>\n",
       "    <tr>\n",
       "      <th>16</th>\n",
       "      <td>1/21/17</td>\n",
       "      <td>UP</td>\n",
       "      <td>10</td>\n",
       "      <td>3</td>\n",
       "      <td>7</td>\n",
       "      <td>232517</td>\n",
       "      <td>3175</td>\n",
       "      <td>7</td>\n",
       "      <td>2</td>\n",
       "    </tr>\n",
       "    <tr>\n",
       "      <th>17</th>\n",
       "      <td>3/25/17</td>\n",
       "      <td>Jönköpings län</td>\n",
       "      <td>5</td>\n",
       "      <td>10</td>\n",
       "      <td>9</td>\n",
       "      <td>236677</td>\n",
       "      <td>3346</td>\n",
       "      <td>8</td>\n",
       "      <td>7</td>\n",
       "    </tr>\n",
       "    <tr>\n",
       "      <th>18</th>\n",
       "      <td>3/10/17</td>\n",
       "      <td>Alajuela</td>\n",
       "      <td>10</td>\n",
       "      <td>5</td>\n",
       "      <td>10</td>\n",
       "      <td>241466</td>\n",
       "      <td>3836</td>\n",
       "      <td>5</td>\n",
       "      <td>6</td>\n",
       "    </tr>\n",
       "    <tr>\n",
       "      <th>19</th>\n",
       "      <td>2/9/17</td>\n",
       "      <td>Ontario</td>\n",
       "      <td>3</td>\n",
       "      <td>4</td>\n",
       "      <td>10</td>\n",
       "      <td>242739</td>\n",
       "      <td>3023</td>\n",
       "      <td>8</td>\n",
       "      <td>4</td>\n",
       "    </tr>\n",
       "  </tbody>\n",
       "</table>\n",
       "</div>"
      ],
      "text/plain": [
       "        date             geo  billboard  print  broadcast   sales  visits  \\\n",
       "0    2/13/17        Kentucky          6      5          1  137452    3974   \n",
       "1    2/12/17              NI          8      6          1  147376    3732   \n",
       "2     3/7/17        Virginia          1      1          2  148252    3127   \n",
       "3    3/14/17             SIC          9      5          3  151842    3091   \n",
       "4     2/5/17              DE          6      3          3  155207    4791   \n",
       "5     1/3/17              IN          5      4          3  163855    5066   \n",
       "6     3/5/17              SJ          3      9          4  175243    3096   \n",
       "7     3/1/17              OV          8      1          4  193623    3371   \n",
       "8   12/25/16           Texas          1      4          4  198238    4992   \n",
       "9   12/23/16              WA          3      6          4  198267    4725   \n",
       "10   2/14/17              JK          8      4          5  201070    5026   \n",
       "11   1/24/17              PB          5      9          6  202392    2988   \n",
       "12   1/23/17              SO          7      8          6  212052    3814   \n",
       "13    1/1/17               E          8      8          6  217510    3264   \n",
       "14   3/17/17     Małopolskie          6      3          7  221501    3144   \n",
       "15    3/8/17  Stockholms län          8      8          7  223374    4502   \n",
       "16   1/21/17              UP         10      3          7  232517    3175   \n",
       "17   3/25/17  Jönköpings län          5     10          9  236677    3346   \n",
       "18   3/10/17        Alajuela         10      5         10  241466    3836   \n",
       "19    2/9/17         Ontario          3      4         10  242739    3023   \n",
       "\n",
       "    volume  increase  \n",
       "0        4        -3  \n",
       "1        8         7  \n",
       "2        5         2  \n",
       "3        3         7  \n",
       "4        5         8  \n",
       "5        6         5  \n",
       "6        4         6  \n",
       "7        5         1  \n",
       "8        6         0  \n",
       "9        7        -1  \n",
       "10       8         5  \n",
       "11       6         0  \n",
       "12       8         6  \n",
       "13       8         5  \n",
       "14       8         8  \n",
       "15       8        -1  \n",
       "16       7         2  \n",
       "17       8         7  \n",
       "18       5         6  \n",
       "19       8         4  "
      ]
     },
     "execution_count": 3,
     "metadata": {},
     "output_type": "execute_result"
    }
   ],
   "source": [
    "#view snapshot of the data\n",
    "myRegressionData"
   ]
  },
  {
   "cell_type": "code",
   "execution_count": 6,
   "metadata": {},
   "outputs": [
    {
     "data": {
      "text/plain": [
       "<matplotlib.axes._subplots.AxesSubplot at 0x2a1fb8318d0>"
      ]
     },
     "execution_count": 6,
     "metadata": {},
     "output_type": "execute_result"
    },
    {
     "data": {
      "image/png": "[encoded data removed]",
      "text/plain": [
       "<Figure size 432x288 with 1 Axes>"
      ]
     },
     "metadata": {
      "needs_background": "light"
     },
     "output_type": "display_data"
    }
   ],
   "source": [
    "#plot the data\n",
    "myRegressionData.plot(kind='scatter',x='broadcast', y='sales')"
   ]
  },
  {
   "cell_type": "code",
   "execution_count": 8,
   "metadata": {},
   "outputs": [
    {
     "name": "stdout",
     "output_type": "stream",
     "text": [
      "Now we will calculate : Cofficient of determination (R Squared) which represents how close the line is to the data points. This value is between 0 & 1, we can interpret it as 0% to 100%\n"
     ]
    }
   ],
   "source": [
    "print(\"\"\"Now we will calculate : Cofficient of determination (R Squared) which represents how close the line is to the data points. This value is between 0 & 1, we can interpret it as 0% to 100%\"\"\")"
   ]
  },
  {
   "cell_type": "code",
   "execution_count": 9,
   "metadata": {},
   "outputs": [],
   "source": [
    "slope,intercept,r_value,p_value,std_err=stats.linregress(myRegressionData.broadcast,myRegressionData.sales)"
   ]
  },
  {
   "cell_type": "code",
   "execution_count": 10,
   "metadata": {},
   "outputs": [
    {
     "name": "stdout",
     "output_type": "stream",
     "text": [
      "r-squared 0.8999615221079124\n"
     ]
    }
   ],
   "source": [
    "print(\"r-squared\",r_value**2)\n",
    "print(\"89% shows almost relative strong relationship between broadcast and Sales variable\")"
   ]
  },
  {
   "cell_type": "code",
   "execution_count": 15,
   "metadata": {},
   "outputs": [],
   "source": [
    "#Model Ordinary list square regression (OLS) to generate calculation\n",
    "myLinearModel = smf.ols(formula='sales ~ broadcast',data=myRegressionData).fit()"
   ]
  },
  {
   "cell_type": "code",
   "execution_count": 16,
   "metadata": {},
   "outputs": [
    {
     "data": {
      "text/plain": [
       "Intercept    133108.779390\n",
       "broadcast     12141.935414\n",
       "dtype: float64"
      ]
     },
     "execution_count": 16,
     "metadata": {},
     "output_type": "execute_result"
    }
   ],
   "source": [
    "#output our coefficients\n",
    "myLinearModel.params"
   ]
  },
  {
   "cell_type": "code",
   "execution_count": 17,
   "metadata": {},
   "outputs": [
    {
     "name": "stdout",
     "output_type": "stream",
     "text": [
      "We can interpret from above result : With each increase in broadcast unit, there is increase of $12141 in the net sales\n"
     ]
    }
   ],
   "source": [
    "print(\"\"\"We can interpret from above result : With each increase in broadcast unit, there is increase of $12141 in the net sales\"\"\")"
   ]
  },
  {
   "cell_type": "code",
   "execution_count": null,
   "metadata": {},
   "outputs": [],
   "source": []
  }
 ],
 "metadata": {
  "kernelspec": {
   "display_name": "Python 3",
   "language": "python",
   "name": "python3"
  },
  "language_info": {
   "codemirror_mode": {
    "name": "ipython",
    "version": 3
   },
   "file_extension": ".py",
   "mimetype": "text/x-python",
   "name": "python",
   "nbconvert_exporter": "python",
   "pygments_lexer": "ipython3",
   "version": "3.7.3"
  }
 },
 "nbformat": 4,
 "nbformat_minor": 2
}
