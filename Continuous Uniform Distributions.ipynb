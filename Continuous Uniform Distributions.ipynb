{
 "cells": [
  {
   "cell_type": "code",
   "execution_count": 1,
   "metadata": {},
   "outputs": [],
   "source": [
    "#Data can't be divided into discreate components there we use CUD..\n",
    "\n",
    "#Example Weighting an object. With perfect precision weight the dat can take on any value between two points (eg. 5 Kg to 6.7 KG or anything else, whereas in our discreate we know total events)\n",
    "#THis means our n possible values from the discrete uniform distribution is going towards infinitym thus probability is 1 / infinity, \n",
    "# Thus we can take only probability for certain range not for a just specific point. it is called continous uniform distribution\n",
    "#So, in discreate uniform distributions we know value of 'n' whereas in continuous uniform distribution we don't know n value"
   ]
  },
  {
   "cell_type": "code",
   "execution_count": 14,
   "metadata": {},
   "outputs": [
    {
     "name": "stdout",
     "output_type": "stream",
     "text": [
      "The probability density function resuts in 0.125\n"
     ]
    }
   ],
   "source": [
    "#Example - Let's say on average ,a taxi ride in NYC takes 22 minutes. After taking some time measurements from experiments\n",
    "# we gather that all the taxi rides are uniformally gathered bewteen 19 and 27 minutes.\n",
    "#What is the probability density function of a taxi ride, or f(x) ?\n",
    "\n",
    "#lower bound time \n",
    "a = 19\n",
    "\n",
    "#Upper bound time\n",
    "b = 27\n",
    "\n",
    "#Probability density function for continuous uniform distribution\n",
    "fx = 1.0/ (b-a)\n",
    "\n",
    "print ('The probability density function resuts in %1.3f' %fx)\n",
    "\n"
   ]
  },
  {
   "cell_type": "code",
   "execution_count": 15,
   "metadata": {},
   "outputs": [
    {
     "name": "stdout",
     "output_type": "stream",
     "text": [
      "THe variance of the continuous uniform distribution is 5.3\n"
     ]
    }
   ],
   "source": [
    "#We can get variance\n",
    "\n",
    "var = ((b-a)**2) /12\n",
    "\n",
    "print ('THe variance of the continuous uniform distribution is %1.1f' %var)"
   ]
  },
  {
   "cell_type": "code",
   "execution_count": 18,
   "metadata": {},
   "outputs": [
    {
     "name": "stdout",
     "output_type": "stream",
     "text": [
      "The probability of the taxi ride that will last at least 25 minutes is 25.0%\n"
     ]
    }
   ],
   "source": [
    "# what is the probability that taxi ride will take at least 25 minutes ?\n",
    "\n",
    "#This is entire probability space - probablity space less than 25\n",
    "\n",
    "#f(27)\n",
    "fx_1 = 27.0 / (b-a)\n",
    "\n",
    "#f(25)\n",
    "fx_2 = 25.0 / (b-a)\n",
    "\n",
    "#Our answer is -\n",
    "\n",
    "ans = fx_1 - fx_2\n",
    "print ('The probability of the taxi ride that will last at least 25 minutes is %2.1f%%' %(100*ans))"
   ]
  },
  {
   "cell_type": "code",
   "execution_count": 22,
   "metadata": {},
   "outputs": [
    {
     "data": {
      "text/plain": [
       "[<matplotlib.lines.Line2D at 0x1f332102940>]"
      ]
     },
     "execution_count": 22,
     "metadata": {},
     "output_type": "execute_result"
    },
    {
     "data": {
      "image/png": "[encoded data removed]",
      "text/plain": [
       "<Figure size 432x288 with 1 Axes>"
      ]
     },
     "metadata": {
      "needs_background": "light"
     },
     "output_type": "display_data"
    }
   ],
   "source": [
    "#Let's do it automatically using Scipy\n",
    "from scipy.stats import uniform\n",
    "import numpy as np\n",
    "import matplotlib.pyplot as plt\n",
    "\n",
    "A = 0\n",
    "B = 5\n",
    "\n",
    "x = np.linspace(A,B,100)\n",
    "\n",
    "rv = uniform(loc=A,scale=B)\n",
    "\n",
    "plt.plot(x,rv.pdf(x))"
   ]
  },
  {
   "cell_type": "code",
   "execution_count": null,
   "metadata": {},
   "outputs": [],
   "source": []
  }
 ],
 "metadata": {
  "kernelspec": {
   "display_name": "Python 3",
   "language": "python",
   "name": "python3"
  },
  "language_info": {
   "codemirror_mode": {
    "name": "ipython",
    "version": 3
   },
   "file_extension": ".py",
   "mimetype": "text/x-python",
   "name": "python",
   "nbconvert_exporter": "python",
   "pygments_lexer": "ipython3",
   "version": "3.7.3"
  }
 },
 "nbformat": 4,
 "nbformat_minor": 2
}
