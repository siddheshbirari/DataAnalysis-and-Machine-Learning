{
 "cells": [
  {
   "cell_type": "code",
   "execution_count": 1,
   "metadata": {},
   "outputs": [],
   "source": [
    "#Importing necessary libraries\n",
    "import pandas as pd\n",
    "import pandas_profiling\n",
    "from sqlalchemy import create_engine\n",
    "import sqlalchemy as db\n",
    "import pymysql\n",
    "df = pd.read_csv(r\"C:\\Siddhesh Data\\Study\\Career Planning\\Job Applications\\Stripe\\TakeHomeAssignment\\takehome_ds_written - Copy.csv\")"
   ]
  },
  {
   "cell_type": "code",
   "execution_count": 2,
   "metadata": {},
   "outputs": [
    {
     "data": {
      "text/html": [
       "<div>\n",
       "<style scoped>\n",
       "    .dataframe tbody tr th:only-of-type {\n",
       "        vertical-align: middle;\n",
       "    }\n",
       "\n",
       "    .dataframe tbody tr th {\n",
       "        vertical-align: top;\n",
       "    }\n",
       "\n",
       "    .dataframe thead th {\n",
       "        text-align: right;\n",
       "    }\n",
       "</style>\n",
       "<table border=\"1\" class=\"dataframe\">\n",
       "  <thead>\n",
       "    <tr style=\"text-align: right;\">\n",
       "      <th></th>\n",
       "      <th>merchant</th>\n",
       "      <th>time</th>\n",
       "      <th>amount_usd_in_cents</th>\n",
       "      <th>amount_usd_in_dollars</th>\n",
       "    </tr>\n",
       "  </thead>\n",
       "  <tbody>\n",
       "    <tr>\n",
       "      <th>0</th>\n",
       "      <td>faa029c6b0</td>\n",
       "      <td>2034-06-17 23:34:14</td>\n",
       "      <td>6349</td>\n",
       "      <td>63.49</td>\n",
       "    </tr>\n",
       "    <tr>\n",
       "      <th>1</th>\n",
       "      <td>ed7a7d91aa</td>\n",
       "      <td>2034-12-27 00:40:38</td>\n",
       "      <td>3854</td>\n",
       "      <td>38.54</td>\n",
       "    </tr>\n",
       "    <tr>\n",
       "      <th>2</th>\n",
       "      <td>5608f200cf</td>\n",
       "      <td>2034-04-30 01:29:42</td>\n",
       "      <td>789</td>\n",
       "      <td>7.89</td>\n",
       "    </tr>\n",
       "    <tr>\n",
       "      <th>3</th>\n",
       "      <td>15b1a0d61e</td>\n",
       "      <td>2034-09-16 01:06:23</td>\n",
       "      <td>4452</td>\n",
       "      <td>44.52</td>\n",
       "    </tr>\n",
       "    <tr>\n",
       "      <th>4</th>\n",
       "      <td>4770051790</td>\n",
       "      <td>2034-07-22 16:21:42</td>\n",
       "      <td>20203</td>\n",
       "      <td>202.03</td>\n",
       "    </tr>\n",
       "    <tr>\n",
       "      <th>...</th>\n",
       "      <td>...</td>\n",
       "      <td>...</td>\n",
       "      <td>...</td>\n",
       "      <td>...</td>\n",
       "    </tr>\n",
       "    <tr>\n",
       "      <th>1513714</th>\n",
       "      <td>72d37bedbf</td>\n",
       "      <td>2034-06-21 13:47:51</td>\n",
       "      <td>5274</td>\n",
       "      <td>52.74</td>\n",
       "    </tr>\n",
       "    <tr>\n",
       "      <th>1513715</th>\n",
       "      <td>5608f200cf</td>\n",
       "      <td>2034-04-20 02:23:59</td>\n",
       "      <td>754</td>\n",
       "      <td>7.54</td>\n",
       "    </tr>\n",
       "    <tr>\n",
       "      <th>1513716</th>\n",
       "      <td>fcbd1dae68</td>\n",
       "      <td>2033-09-19 14:02:33</td>\n",
       "      <td>13203</td>\n",
       "      <td>132.03</td>\n",
       "    </tr>\n",
       "    <tr>\n",
       "      <th>1513717</th>\n",
       "      <td>9843e52410</td>\n",
       "      <td>2034-12-28 20:07:59</td>\n",
       "      <td>4845</td>\n",
       "      <td>48.45</td>\n",
       "    </tr>\n",
       "    <tr>\n",
       "      <th>1513718</th>\n",
       "      <td>32acddd6cc</td>\n",
       "      <td>2034-08-23 09:07:07</td>\n",
       "      <td>3862</td>\n",
       "      <td>38.62</td>\n",
       "    </tr>\n",
       "  </tbody>\n",
       "</table>\n",
       "<p>1513719 rows × 4 columns</p>\n",
       "</div>"
      ],
      "text/plain": [
       "           merchant                 time  amount_usd_in_cents  \\\n",
       "0        faa029c6b0  2034-06-17 23:34:14                 6349   \n",
       "1        ed7a7d91aa  2034-12-27 00:40:38                 3854   \n",
       "2        5608f200cf  2034-04-30 01:29:42                  789   \n",
       "3        15b1a0d61e  2034-09-16 01:06:23                 4452   \n",
       "4        4770051790  2034-07-22 16:21:42                20203   \n",
       "...             ...                  ...                  ...   \n",
       "1513714  72d37bedbf  2034-06-21 13:47:51                 5274   \n",
       "1513715  5608f200cf  2034-04-20 02:23:59                  754   \n",
       "1513716  fcbd1dae68  2033-09-19 14:02:33                13203   \n",
       "1513717  9843e52410  2034-12-28 20:07:59                 4845   \n",
       "1513718  32acddd6cc  2034-08-23 09:07:07                 3862   \n",
       "\n",
       "         amount_usd_in_dollars  \n",
       "0                        63.49  \n",
       "1                        38.54  \n",
       "2                         7.89  \n",
       "3                        44.52  \n",
       "4                       202.03  \n",
       "...                        ...  \n",
       "1513714                  52.74  \n",
       "1513715                   7.54  \n",
       "1513716                 132.03  \n",
       "1513717                  48.45  \n",
       "1513718                  38.62  \n",
       "\n",
       "[1513719 rows x 4 columns]"
      ]
     },
     "execution_count": 2,
     "metadata": {},
     "output_type": "execute_result"
    }
   ],
   "source": [
    "#Getting sense on the data & removing the unnecessary columns\n",
    "df.head()\n",
    "df_merchant = df.drop(['Unnamed: 0'], axis=1)\n",
    "# Adding additional column - Casting cents value into dollars\n",
    "df_merchant[\"amount_usd_in_dollars\"]=df_merchant.loc[:,\"amount_usd_in_cents\"] / 100\n",
    "df_merchant\n"
   ]
  },
  {
   "cell_type": "code",
   "execution_count": null,
   "metadata": {},
   "outputs": [
    {
     "data": {
      "application/vnd.jupyter.widget-view+json": {
       "model_id": "3de63436bfe54cd583e0bdfa5bb245cd",
       "version_major": 2,
       "version_minor": 0
      },
      "text/plain": [
       "Summarize dataset:   0%|          | 0/5 [00:00<?, ?it/s]"
      ]
     },
     "metadata": {},
     "output_type": "display_data"
    }
   ],
   "source": [
    "#pandas profiling can be used for Exploratory data analysis\n",
    "df_merchant.describe()\n",
    "df_merchant.profile_report()"
   ]
  },
  {
   "cell_type": "code",
   "execution_count": 3,
   "metadata": {},
   "outputs": [
    {
     "name": "stdout",
     "output_type": "stream",
     "text": [
      "('faa029c6b0', '2034-06-17 23:34:14', 6349)\n",
      "('ed7a7d91aa', '2034-12-27 00:40:38', 3854)\n",
      "('5608f200cf', '2034-04-30 01:29:42', 789)\n"
     ]
    }
   ],
   "source": [
    "#Connecting to MySQL\n",
    "import pymysql\n",
    "user = 'root'\n",
    "passw = 'root'\n",
    "host =  '127.0.0.1'\n",
    "port = 3306\n",
    "database = 'sakila'\n",
    "\n",
    "#Opening Connection \n",
    "conn = pymysql.connect(host=host,\n",
    "                       port=port,\n",
    "                       user=user, \n",
    "                       passwd=passw,  \n",
    "                       db=database,\n",
    "                       charset='utf8')\n",
    "\n",
    "# Reading sample data from MYSQL\n",
    "\n",
    "cur = conn.cursor()\n",
    "cur.execute(\"select * from merchant_transactions limit 3\")\n",
    "output = cur.fetchall()\n",
    "for i in output:\n",
    "    print(i)\n"
   ]
  },
  {
   "cell_type": "code",
   "execution_count": 4,
   "metadata": {},
   "outputs": [],
   "source": [
    "# Credentials to database connection for writing dataframe to mySQL. MySQL connection had network issue, \n",
    "#hence I had to create dataframe first and then write it to MySQL\n",
    "hostname=\"127.0.0.1\"\n",
    "dbname=\"sakila\"\n",
    "uname=\"root\"\n",
    "pwd=\"root\"\n",
    "\n",
    "# Create SQLAlchemy engine to connect to MySQL Database\n",
    "engine = create_engine(\"mysql+pymysql://{user}:{pw}@{host}/{db}\".format(host=hostname, db=dbname, user=uname, pw=pwd))\n",
    "\n",
    "# Convert dataframe to sql table                                   \n",
    "#df.to_sql('merchant_transactions', engine, index=False) # This is done, hence commented"
   ]
  },
  {
   "cell_type": "code",
   "execution_count": 5,
   "metadata": {},
   "outputs": [
    {
     "name": "stdout",
     "output_type": "stream",
     "text": [
      "4770051790\n"
     ]
    }
   ],
   "source": [
    "# Another way to read data\n",
    "connection = engine.connect()\n",
    "metadata = db.MetaData()\n",
    "table_in_consideration = db.Table('merchant_transactions', metadata, autoload=True, autoload_with=engine)\n",
    "query = db.select([table_in_consideration])\n",
    "ResultProxy = connection.execute(query)\n",
    "ResultSet = ResultProxy.fetchall()\n",
    "ResultSet[:3]\n",
    "\n",
    "query2 = db.select([table_in_consideration]).where(table_in_consideration.columns.amount_usd_in_cents >= 11000)\n",
    "result2 = connection.execute(query2).scalar()\n",
    "print(result2)"
   ]
  },
  {
   "cell_type": "code",
   "execution_count": 4,
   "metadata": {},
   "outputs": [
    {
     "data": {
      "text/html": [
       "<div>\n",
       "<style scoped>\n",
       "    .dataframe tbody tr th:only-of-type {\n",
       "        vertical-align: middle;\n",
       "    }\n",
       "\n",
       "    .dataframe tbody tr th {\n",
       "        vertical-align: top;\n",
       "    }\n",
       "\n",
       "    .dataframe thead th {\n",
       "        text-align: right;\n",
       "    }\n",
       "</style>\n",
       "<table border=\"1\" class=\"dataframe\">\n",
       "  <thead>\n",
       "    <tr style=\"text-align: right;\">\n",
       "      <th></th>\n",
       "      <th>merchant</th>\n",
       "      <th>time</th>\n",
       "      <th>amount_usd_in_cents</th>\n",
       "      <th>amount_usd_in_dollars</th>\n",
       "    </tr>\n",
       "  </thead>\n",
       "  <tbody>\n",
       "    <tr>\n",
       "      <th>0</th>\n",
       "      <td>faa029c6b0</td>\n",
       "      <td>2034-06-17 23:34:14</td>\n",
       "      <td>6349</td>\n",
       "      <td>63.49</td>\n",
       "    </tr>\n",
       "    <tr>\n",
       "      <th>1</th>\n",
       "      <td>ed7a7d91aa</td>\n",
       "      <td>2034-12-27 00:40:38</td>\n",
       "      <td>3854</td>\n",
       "      <td>38.54</td>\n",
       "    </tr>\n",
       "    <tr>\n",
       "      <th>2</th>\n",
       "      <td>5608f200cf</td>\n",
       "      <td>2034-04-30 01:29:42</td>\n",
       "      <td>789</td>\n",
       "      <td>7.89</td>\n",
       "    </tr>\n",
       "    <tr>\n",
       "      <th>3</th>\n",
       "      <td>15b1a0d61e</td>\n",
       "      <td>2034-09-16 01:06:23</td>\n",
       "      <td>4452</td>\n",
       "      <td>44.52</td>\n",
       "    </tr>\n",
       "    <tr>\n",
       "      <th>4</th>\n",
       "      <td>4770051790</td>\n",
       "      <td>2034-07-22 16:21:42</td>\n",
       "      <td>20203</td>\n",
       "      <td>202.03</td>\n",
       "    </tr>\n",
       "  </tbody>\n",
       "</table>\n",
       "</div>"
      ],
      "text/plain": [
       "     merchant                 time  amount_usd_in_cents  amount_usd_in_dollars\n",
       "0  faa029c6b0  2034-06-17 23:34:14                 6349                  63.49\n",
       "1  ed7a7d91aa  2034-12-27 00:40:38                 3854                  38.54\n",
       "2  5608f200cf  2034-04-30 01:29:42                  789                   7.89\n",
       "3  15b1a0d61e  2034-09-16 01:06:23                 4452                  44.52\n",
       "4  4770051790  2034-07-22 16:21:42                20203                 202.03"
      ]
     },
     "execution_count": 4,
     "metadata": {},
     "output_type": "execute_result"
    }
   ],
   "source": [
    "# Since, our MYSQL connection is not getting interrupted, let's do analysis via Pandas only\n",
    "df_merchant.head()"
   ]
  },
  {
   "cell_type": "code",
   "execution_count": 5,
   "metadata": {},
   "outputs": [
    {
     "data": {
      "text/plain": [
       "0           6349\n",
       "1           3854\n",
       "2            789\n",
       "3           4452\n",
       "4          20203\n",
       "           ...  \n",
       "1513714     5274\n",
       "1513715      754\n",
       "1513716    13203\n",
       "1513717     4845\n",
       "1513718     3862\n",
       "Name: amount_usd_in_cents, Length: 1513719, dtype: int64"
      ]
     },
     "execution_count": 5,
     "metadata": {},
     "output_type": "execute_result"
    }
   ],
   "source": [
    "df_merchant.loc[:,\"amount_usd_in_cents\"]\n",
    "df_merchant.iloc[:,2]"
   ]
  },
  {
   "cell_type": "code",
   "execution_count": 105,
   "metadata": {},
   "outputs": [],
   "source": [
    "pd.set_option('display.max_rows', 10)\n",
    "pd.set_option('display.max_columns', None)\n",
    "pd.set_option('display.width', None)\n",
    "pd.set_option('display.max_colwidth', None)"
   ]
  },
  {
   "cell_type": "code",
   "execution_count": 6,
   "metadata": {},
   "outputs": [
    {
     "data": {
      "text/html": [
       "<div>\n",
       "<style scoped>\n",
       "    .dataframe tbody tr th:only-of-type {\n",
       "        vertical-align: middle;\n",
       "    }\n",
       "\n",
       "    .dataframe tbody tr th {\n",
       "        vertical-align: top;\n",
       "    }\n",
       "\n",
       "    .dataframe thead th {\n",
       "        text-align: right;\n",
       "    }\n",
       "</style>\n",
       "<table border=\"1\" class=\"dataframe\">\n",
       "  <thead>\n",
       "    <tr style=\"text-align: right;\">\n",
       "      <th></th>\n",
       "      <th>merchant</th>\n",
       "      <th>time</th>\n",
       "      <th>amount_usd_in_cents</th>\n",
       "      <th>amount_usd_in_dollars</th>\n",
       "    </tr>\n",
       "  </thead>\n",
       "  <tbody>\n",
       "    <tr>\n",
       "      <th>4</th>\n",
       "      <td>4770051790</td>\n",
       "      <td>2034-07-22 16:21:42</td>\n",
       "      <td>20203</td>\n",
       "      <td>202.03</td>\n",
       "    </tr>\n",
       "    <tr>\n",
       "      <th>8</th>\n",
       "      <td>9cb79b7700</td>\n",
       "      <td>2034-03-27 23:01:13</td>\n",
       "      <td>23267</td>\n",
       "      <td>232.67</td>\n",
       "    </tr>\n",
       "    <tr>\n",
       "      <th>18</th>\n",
       "      <td>207cc1c4a7</td>\n",
       "      <td>2034-04-22 19:56:35</td>\n",
       "      <td>44967</td>\n",
       "      <td>449.67</td>\n",
       "    </tr>\n",
       "    <tr>\n",
       "      <th>22</th>\n",
       "      <td>fb6a7c1709</td>\n",
       "      <td>2034-01-11 02:58:37</td>\n",
       "      <td>12862</td>\n",
       "      <td>128.62</td>\n",
       "    </tr>\n",
       "    <tr>\n",
       "      <th>23</th>\n",
       "      <td>aff06c8624</td>\n",
       "      <td>2034-03-29 03:27:58</td>\n",
       "      <td>66160</td>\n",
       "      <td>661.60</td>\n",
       "    </tr>\n",
       "    <tr>\n",
       "      <th>...</th>\n",
       "      <td>...</td>\n",
       "      <td>...</td>\n",
       "      <td>...</td>\n",
       "      <td>...</td>\n",
       "    </tr>\n",
       "    <tr>\n",
       "      <th>1513701</th>\n",
       "      <td>1ad2dd20c2</td>\n",
       "      <td>2034-03-03 18:15:49</td>\n",
       "      <td>22937</td>\n",
       "      <td>229.37</td>\n",
       "    </tr>\n",
       "    <tr>\n",
       "      <th>1513706</th>\n",
       "      <td>71a3c03fc8</td>\n",
       "      <td>2034-12-11 16:57:09</td>\n",
       "      <td>37990</td>\n",
       "      <td>379.90</td>\n",
       "    </tr>\n",
       "    <tr>\n",
       "      <th>1513711</th>\n",
       "      <td>0d970b6c59</td>\n",
       "      <td>2034-08-29 15:25:57</td>\n",
       "      <td>24772</td>\n",
       "      <td>247.72</td>\n",
       "    </tr>\n",
       "    <tr>\n",
       "      <th>1513712</th>\n",
       "      <td>2ee2608106</td>\n",
       "      <td>2034-03-11 03:08:28</td>\n",
       "      <td>59264</td>\n",
       "      <td>592.64</td>\n",
       "    </tr>\n",
       "    <tr>\n",
       "      <th>1513716</th>\n",
       "      <td>fcbd1dae68</td>\n",
       "      <td>2033-09-19 14:02:33</td>\n",
       "      <td>13203</td>\n",
       "      <td>132.03</td>\n",
       "    </tr>\n",
       "  </tbody>\n",
       "</table>\n",
       "<p>398170 rows × 4 columns</p>\n",
       "</div>"
      ],
      "text/plain": [
       "           merchant                 time  amount_usd_in_cents  \\\n",
       "4        4770051790  2034-07-22 16:21:42                20203   \n",
       "8        9cb79b7700  2034-03-27 23:01:13                23267   \n",
       "18       207cc1c4a7  2034-04-22 19:56:35                44967   \n",
       "22       fb6a7c1709  2034-01-11 02:58:37                12862   \n",
       "23       aff06c8624  2034-03-29 03:27:58                66160   \n",
       "...             ...                  ...                  ...   \n",
       "1513701  1ad2dd20c2  2034-03-03 18:15:49                22937   \n",
       "1513706  71a3c03fc8  2034-12-11 16:57:09                37990   \n",
       "1513711  0d970b6c59  2034-08-29 15:25:57                24772   \n",
       "1513712  2ee2608106  2034-03-11 03:08:28                59264   \n",
       "1513716  fcbd1dae68  2033-09-19 14:02:33                13203   \n",
       "\n",
       "         amount_usd_in_dollars  \n",
       "4                       202.03  \n",
       "8                       232.67  \n",
       "18                      449.67  \n",
       "22                      128.62  \n",
       "23                      661.60  \n",
       "...                        ...  \n",
       "1513701                 229.37  \n",
       "1513706                 379.90  \n",
       "1513711                 247.72  \n",
       "1513712                 592.64  \n",
       "1513716                 132.03  \n",
       "\n",
       "[398170 rows x 4 columns]"
      ]
     },
     "execution_count": 6,
     "metadata": {},
     "output_type": "execute_result"
    }
   ],
   "source": [
    "# Display data\n",
    "type(df_merchant[\"amount_usd_in_dollars\"] >= 120) #This would display series\n",
    "type(df_merchant[df_merchant[\"amount_usd_in_dollars\"] >= 120]) # This would display Dataframe\n",
    "df_merchant[df_merchant[\"amount_usd_in_dollars\"] >= 120]"
   ]
  },
  {
   "cell_type": "code",
   "execution_count": 7,
   "metadata": {},
   "outputs": [
    {
     "name": "stdout",
     "output_type": "stream",
     "text": [
      "Max value is 259202.8 \n",
      "Min value is 2.01 \n",
      "Std is 616.1886376348684 \n",
      "Mean is 154.84660826744977\n"
     ]
    }
   ],
   "source": [
    "# Let's understand amount_usd_in_dollars in detail\n",
    "print(\"Max value is\", df_merchant[\"amount_usd_in_dollars\"].max(),\"\\nMin value is\", df_merchant[\"amount_usd_in_dollars\"].min(),\"\\nStd is\",df_merchant[\"amount_usd_in_dollars\"].std(),\"\\nMean is\",df_merchant[\"amount_usd_in_dollars\"].mean())"
   ]
  },
  {
   "cell_type": "code",
   "execution_count": 8,
   "metadata": {},
   "outputs": [
    {
     "data": {
      "image/png": "[encoded data removed]",
      "text/plain": [
       "<Figure size 432x288 with 1 Axes>"
      ]
     },
     "metadata": {},
     "output_type": "display_data"
    }
   ],
   "source": [
    "import seaborn as sns\n",
    "import matplotlib.pyplot as plt\n",
    "%matplotlib inline\n",
    "sns.set()\n",
    "sns.histplot(data=df_merchant, x=\"amount_usd_in_dollars\",bins=10,kde=True)\n",
    "plt.show()\n",
    "#sns.lineplot(data=df_merchant)\n",
    "#df_merchant.plot()\n",
    "#df_merchant.loc[:,\"amount_usd_in_dollars\"].plot(kind=\"bar\")"
   ]
  },
  {
   "cell_type": "code",
   "execution_count": 9,
   "metadata": {},
   "outputs": [
    {
     "data": {
      "text/html": [
       "<div>\n",
       "<style scoped>\n",
       "    .dataframe tbody tr th:only-of-type {\n",
       "        vertical-align: middle;\n",
       "    }\n",
       "\n",
       "    .dataframe tbody tr th {\n",
       "        vertical-align: top;\n",
       "    }\n",
       "\n",
       "    .dataframe thead th {\n",
       "        text-align: right;\n",
       "    }\n",
       "</style>\n",
       "<table border=\"1\" class=\"dataframe\">\n",
       "  <thead>\n",
       "    <tr style=\"text-align: right;\">\n",
       "      <th></th>\n",
       "      <th>amount_usd_in_dollars</th>\n",
       "    </tr>\n",
       "    <tr>\n",
       "      <th>merchant</th>\n",
       "      <th></th>\n",
       "    </tr>\n",
       "  </thead>\n",
       "  <tbody>\n",
       "    <tr>\n",
       "      <th>0002b63b92</th>\n",
       "      <td>33.79</td>\n",
       "    </tr>\n",
       "    <tr>\n",
       "      <th>0002d07bba</th>\n",
       "      <td>892.78</td>\n",
       "    </tr>\n",
       "    <tr>\n",
       "      <th>00057d4302</th>\n",
       "      <td>295.21</td>\n",
       "    </tr>\n",
       "    <tr>\n",
       "      <th>000bcff341</th>\n",
       "      <td>78.26</td>\n",
       "    </tr>\n",
       "    <tr>\n",
       "      <th>000ddbf0ca</th>\n",
       "      <td>102.99</td>\n",
       "    </tr>\n",
       "  </tbody>\n",
       "</table>\n",
       "</div>"
      ],
      "text/plain": [
       "            amount_usd_in_dollars\n",
       "merchant                         \n",
       "0002b63b92                  33.79\n",
       "0002d07bba                 892.78\n",
       "00057d4302                 295.21\n",
       "000bcff341                  78.26\n",
       "000ddbf0ca                 102.99"
      ]
     },
     "execution_count": 9,
     "metadata": {},
     "output_type": "execute_result"
    }
   ],
   "source": [
    "#Getting overall transaction done by merchant & separate analysis based on the amount spent\n",
    "df_merchant_amount = df_merchant.groupby(by=[\"merchant\"]).sum(\"amount_usd_in_dollars\")\n",
    "df_merchant_amount.drop(\"amount_usd_in_cents\",axis=1,inplace=True)\n",
    "df_merchant_amount.head()\n"
   ]
  },
  {
   "cell_type": "code",
   "execution_count": 10,
   "metadata": {},
   "outputs": [
    {
     "data": {
      "text/plain": [
       "<AxesSubplot:xlabel='amount_usd_in_dollars'>"
      ]
     },
     "execution_count": 10,
     "metadata": {},
     "output_type": "execute_result"
    },
    {
     "data": {
      "image/png": "[encoded data removed]",
      "text/plain": [
       "<Figure size 432x288 with 1 Axes>"
      ]
     },
     "metadata": {},
     "output_type": "display_data"
    }
   ],
   "source": [
    "#PLotting box plot to get sense on the ranges \n",
    "sns.boxplot(x=\"amount_usd_in_dollars\",data=df_merchant,palette=\"Blues\",width=50.4)"
   ]
  },
  {
   "cell_type": "code",
   "execution_count": 11,
   "metadata": {},
   "outputs": [
    {
     "data": {
      "text/html": [
       "<div>\n",
       "<style scoped>\n",
       "    .dataframe tbody tr th:only-of-type {\n",
       "        vertical-align: middle;\n",
       "    }\n",
       "\n",
       "    .dataframe tbody tr th {\n",
       "        vertical-align: top;\n",
       "    }\n",
       "\n",
       "    .dataframe thead th {\n",
       "        text-align: right;\n",
       "    }\n",
       "</style>\n",
       "<table border=\"1\" class=\"dataframe\">\n",
       "  <thead>\n",
       "    <tr style=\"text-align: right;\">\n",
       "      <th></th>\n",
       "      <th>amount_usd_in_dollars</th>\n",
       "      <th>Merchant Type</th>\n",
       "    </tr>\n",
       "    <tr>\n",
       "      <th>merchant</th>\n",
       "      <th></th>\n",
       "      <th></th>\n",
       "    </tr>\n",
       "  </thead>\n",
       "  <tbody>\n",
       "    <tr>\n",
       "      <th>0002b63b92</th>\n",
       "      <td>33.79</td>\n",
       "      <td>Low Retail</td>\n",
       "    </tr>\n",
       "    <tr>\n",
       "      <th>0002d07bba</th>\n",
       "      <td>892.78</td>\n",
       "      <td>Low Retail</td>\n",
       "    </tr>\n",
       "    <tr>\n",
       "      <th>00057d4302</th>\n",
       "      <td>295.21</td>\n",
       "      <td>Low Retail</td>\n",
       "    </tr>\n",
       "    <tr>\n",
       "      <th>000bcff341</th>\n",
       "      <td>78.26</td>\n",
       "      <td>Low Retail</td>\n",
       "    </tr>\n",
       "    <tr>\n",
       "      <th>000ddbf0ca</th>\n",
       "      <td>102.99</td>\n",
       "      <td>Low Retail</td>\n",
       "    </tr>\n",
       "  </tbody>\n",
       "</table>\n",
       "</div>"
      ],
      "text/plain": [
       "            amount_usd_in_dollars Merchant Type\n",
       "merchant                                       \n",
       "0002b63b92                  33.79    Low Retail\n",
       "0002d07bba                 892.78    Low Retail\n",
       "00057d4302                 295.21    Low Retail\n",
       "000bcff341                  78.26    Low Retail\n",
       "000ddbf0ca                 102.99    Low Retail"
      ]
     },
     "execution_count": 11,
     "metadata": {},
     "output_type": "execute_result"
    }
   ],
   "source": [
    "# create a list of our conditions to categorize merchant type\n",
    "import numpy as np\n",
    "conditions = [\n",
    "    (df_merchant_amount['amount_usd_in_dollars'] <= 45000), #LR\n",
    "    (df_merchant_amount['amount_usd_in_dollars'] > 45001) & (df_merchant_amount['amount_usd_in_dollars'] <= 60000), #MR\n",
    "    (df_merchant_amount['amount_usd_in_dollars'] > 60001) & (df_merchant_amount['amount_usd_in_dollars'] <= 70000), #HR\n",
    "    (df_merchant_amount['amount_usd_in_dollars'] > 70001) & (df_merchant_amount['amount_usd_in_dollars'] <= 100000), #ER\n",
    "    (df_merchant_amount['amount_usd_in_dollars'] > 100001) & (df_merchant_amount['amount_usd_in_dollars'] <= 150000), #LW\n",
    "    (df_merchant_amount['amount_usd_in_dollars'] > 150001) & (df_merchant_amount['amount_usd_in_dollars'] <= 200000), #MW\n",
    "    (df_merchant_amount['amount_usd_in_dollars'] > 200001) #HW\n",
    "    ]\n",
    "\n",
    "# create a list of the values we want to assign for each condition\n",
    "values = ['Low Retail', 'Medium Retail', 'High Retail', 'Extreme Retail','Low Wholesale','Medium Wholesale','High Wholesale']\n",
    "\n",
    "# create a new column and use np.select to assign values to it using our lists as arguments\n",
    "df_merchant_amount['Merchant Type'] = np.select(conditions, values)\n",
    "\n",
    "# display updated DataFrame\n",
    "df_merchant_amount.head()"
   ]
  },
  {
   "cell_type": "code",
   "execution_count": 12,
   "metadata": {},
   "outputs": [
    {
     "data": {
      "text/plain": [
       "<AxesSubplot:xlabel='Merchant Type', ylabel='Count'>"
      ]
     },
     "execution_count": 12,
     "metadata": {},
     "output_type": "execute_result"
    },
    {
     "data": {
      "image/png": "[encoded data removed]",
      "text/plain": [
       "<Figure size 950.4x739.44 with 1 Axes>"
      ]
     },
     "metadata": {},
     "output_type": "display_data"
    }
   ],
   "source": [
    "#Visualize information of each merchant category\n",
    "sns.set(rc={'figure.figsize':(13.2,10.27)})\n",
    "#sns.histplot(data=df_merchant_amount,x=\"Merchant Type\")\n",
    "sns.histplot(data=df_merchant_amount,x=\"Merchant Type\")"
   ]
  },
  {
   "cell_type": "code",
   "execution_count": 14,
   "metadata": {},
   "outputs": [
    {
     "name": "stdout",
     "output_type": "stream",
     "text": [
      "According to above analysis - Corresponding dataset has more \"Low Retail\" transactions\n"
     ]
    }
   ],
   "source": [
    "print(\"\"\"According to above analysis - Corresponding dataset has more \"Low Retail\" transactions\"\"\")"
   ]
  },
  {
   "cell_type": "code",
   "execution_count": null,
   "metadata": {},
   "outputs": [],
   "source": []
  }
 ],
 "metadata": {
  "kernelspec": {
   "display_name": "Python 3",
   "language": "python",
   "name": "python3"
  },
  "language_info": {
   "codemirror_mode": {
    "name": "ipython",
    "version": 3
   },
   "file_extension": ".py",
   "mimetype": "text/x-python",
   "name": "python",
   "nbconvert_exporter": "python",
   "pygments_lexer": "ipython3",
   "version": "3.7.3"
  }
 },
 "nbformat": 4,
 "nbformat_minor": 2
}
